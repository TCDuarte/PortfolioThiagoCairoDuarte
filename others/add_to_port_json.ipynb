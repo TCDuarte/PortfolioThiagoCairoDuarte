{
 "cells": [
  {
   "cell_type": "code",
   "execution_count": 50,
   "metadata": {},
   "outputs": [],
   "source": [
    "import pandas as pd\n",
    "portfolio = pd.read_json(r'C:\\Users\\thima\\Documents\\GitHub\\PortfolioThiagoCairoDuarte\\streamlit\\portfolio.json')"
   ]
  },
  {
   "cell_type": "code",
   "execution_count": 51,
   "metadata": {},
   "outputs": [],
   "source": [
    "name = 'Teste'"
   ]
  },
  {
   "cell_type": "code",
   "execution_count": 52,
   "metadata": {},
   "outputs": [],
   "source": [
    "file = 'teste.png'"
   ]
  },
  {
   "cell_type": "code",
   "execution_count": 53,
   "metadata": {},
   "outputs": [],
   "source": [
    "url = 'test.com'"
   ]
  },
  {
   "cell_type": "code",
   "execution_count": 54,
   "metadata": {},
   "outputs": [
    {
     "name": "stdout",
     "output_type": "stream",
     "text": [
      "{'name': 'Teste', 'file': 'teste.png', 'url': 'test.com', 'column': 2}\n"
     ]
    }
   ],
   "source": [
    "def add_to_portfolio(df = portfolio):\n",
    "    newRow = {'name': name, \n",
    "              'file': file,\n",
    "              'url': url}\n",
    "    lastColumnValue = df.tail(1)['column'].values[0]\n",
    "    column = 1 if lastColumnValue == 4 else lastColumnValue + 1\n",
    "    newRow['column'] = column\n",
    "    print(newRow)\n",
    "    df = pd.concat([df, pd.DataFrame([newRow])], ignore_index=True)\n",
    "    return(df)\n",
    "    \n",
    "portfolio = add_to_portfolio()\n",
    "\n",
    "portfolio.to_json(r'C:\\Users\\thima\\Documents\\GitHub\\PortfolioThiagoCairoDuarte\\streamlit\\portfolio.json')"
   ]
  }
 ],
 "metadata": {
  "kernelspec": {
   "display_name": "Python 3",
   "language": "python",
   "name": "python3"
  },
  "language_info": {
   "codemirror_mode": {
    "name": "ipython",
    "version": 3
   },
   "file_extension": ".py",
   "mimetype": "text/x-python",
   "name": "python",
   "nbconvert_exporter": "python",
   "pygments_lexer": "ipython3",
   "version": "3.11.8"
  }
 },
 "nbformat": 4,
 "nbformat_minor": 2
}
