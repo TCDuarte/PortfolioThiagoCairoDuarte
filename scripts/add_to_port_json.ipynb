{
 "cells": [
  {
   "cell_type": "code",
   "execution_count": 12,
   "metadata": {},
   "outputs": [],
   "source": [
    "import pandas as pd\n",
    "portfolio = pd.read_json(r'C:\\Users\\thima\\Documents\\GitHub\\PortfolioThiagoCairoDuarte\\data\\portfolio.json')"
   ]
  },
  {
   "cell_type": "code",
   "execution_count": 13,
   "metadata": {},
   "outputs": [],
   "source": [
    "namePT = 'Portifólio em Python'"
   ]
  },
  {
   "cell_type": "code",
   "execution_count": 14,
   "metadata": {},
   "outputs": [],
   "source": [
    "nameEN = 'Python portfolio'"
   ]
  },
  {
   "cell_type": "code",
   "execution_count": 15,
   "metadata": {},
   "outputs": [],
   "source": [
    "file = 'portf.png'"
   ]
  },
  {
   "cell_type": "code",
   "execution_count": 16,
   "metadata": {},
   "outputs": [],
   "source": [
    "url = 'https://github.com/TCDuarte/PortfolioThiagoCairoDuarte/'"
   ]
  },
  {
   "cell_type": "code",
   "execution_count": 17,
   "metadata": {},
   "outputs": [],
   "source": [
    "tags = ['Python', 'Github']"
   ]
  },
  {
   "cell_type": "code",
   "execution_count": 18,
   "metadata": {},
   "outputs": [],
   "source": [
    "def add_to_portfolio(df = portfolio):\n",
    "    newRow = {'namePT': namePT,\n",
    "              'nameEN': nameEN,\n",
    "              'file': \"https://github.com/TCDuarte/PortfolioThiagoCairoDuarte/blob/main/streamlit/imgs/portifolio_pictures/\" + file + \"?raw=true\",\n",
    "              'url': url,\n",
    "              'tags': tags}\n",
    "    # lastColumnValue = df.tail(1)['column'].values[0]\n",
    "    # column = 1 if lastColumnValue == 4 else lastColumnValue + 1\n",
    "    # newRow['column'] = column\n",
    "    # print(newRow)\n",
    "    df = pd.concat([df, pd.DataFrame([newRow])], ignore_index=True)\n",
    "    return(df)\n",
    "    \n",
    "portfolio = add_to_portfolio()\n",
    "\n",
    "portfolio.to_json(r'C:\\Users\\thima\\Documents\\GitHub\\PortfolioThiagoCairoDuarte\\data\\portfolio.json')"
   ]
  }
 ],
 "metadata": {
  "kernelspec": {
   "display_name": "Python 3",
   "language": "python",
   "name": "python3"
  },
  "language_info": {
   "codemirror_mode": {
    "name": "ipython",
    "version": 3
   },
   "file_extension": ".py",
   "mimetype": "text/x-python",
   "name": "python",
   "nbconvert_exporter": "python",
   "pygments_lexer": "ipython3",
   "version": "3.11.8"
  }
 },
 "nbformat": 4,
 "nbformat_minor": 2
}
