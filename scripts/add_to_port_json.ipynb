{
 "cells": [
  {
   "cell_type": "code",
   "execution_count": 2,
   "metadata": {},
   "outputs": [],
   "source": [
    "import pandas as pd\n",
    "import json\n",
    "portfolio = pd.read_json(r'C:\\Users\\thima\\Documents\\GitHub\\PortfolioThiagoCairoDuarte\\data\\portfolio.json')"
   ]
  },
  {
   "cell_type": "code",
   "execution_count": 13,
   "metadata": {},
   "outputs": [],
   "source": [
    "namePT = 'Portifólio em Python'"
   ]
  },
  {
   "cell_type": "code",
   "execution_count": 14,
   "metadata": {},
   "outputs": [],
   "source": [
    "nameEN = 'Python portfolio'"
   ]
  },
  {
   "cell_type": "code",
   "execution_count": 15,
   "metadata": {},
   "outputs": [],
   "source": [
    "file = 'portf.png'"
   ]
  },
  {
   "cell_type": "code",
   "execution_count": 16,
   "metadata": {},
   "outputs": [],
   "source": [
    "url = 'https://github.com/TCDuarte/PortfolioThiagoCairoDuarte/'"
   ]
  },
  {
   "cell_type": "code",
   "execution_count": 17,
   "metadata": {},
   "outputs": [],
   "source": [
    "tags = ['Python', 'Github']"
   ]
  },
  {
   "cell_type": "code",
   "execution_count": 18,
   "metadata": {},
   "outputs": [],
   "source": [
    "def add_to_portfolio(df = portfolio):\n",
    "    newRow = {'namePT': namePT,\n",
    "              'nameEN': nameEN,\n",
    "              'file': \"https://github.com/TCDuarte/PortfolioThiagoCairoDuarte/blob/main/streamlit/imgs/portifolio_pictures/\" + file + \"?raw=true\",\n",
    "              'url': url,\n",
    "              'tags': tags}\n",
    "    # lastColumnValue = df.tail(1)['column'].values[0]\n",
    "    # column = 1 if lastColumnValue == 4 else lastColumnValue + 1\n",
    "    # newRow['column'] = column\n",
    "    # print(newRow)\n",
    "    df = pd.concat([df, pd.DataFrame([newRow])], ignore_index=True)\n",
    "    return(df)\n",
    "    \n",
    "portfolio = add_to_portfolio()\n",
    "\n",
    "portfolio.to_json(r'C:\\Users\\thima\\Documents\\GitHub\\PortfolioThiagoCairoDuarte\\data\\portfolio.json')"
   ]
  },
  {
   "cell_type": "code",
   "execution_count": 31,
   "metadata": {},
   "outputs": [
    {
     "name": "stdout",
     "output_type": "stream",
     "text": [
      "['Excel/Sheets', 'Google App Script', 'Github', 'Python']\n"
     ]
    },
    {
     "ename": "FileNotFoundError",
     "evalue": "[Errno 2] No such file or directory: 'C:\\\\Users\\\\thima\\\\Documents\\\\GitHub\\\\PortfolioThiagoCairoDuarte\\\\scripts\\\\color_reference.json'",
     "output_type": "error",
     "traceback": [
      "\u001b[1;31m---------------------------------------------------------------------------\u001b[0m",
      "\u001b[1;31mFileNotFoundError\u001b[0m                         Traceback (most recent call last)",
      "Cell \u001b[1;32mIn[31], line 40\u001b[0m\n\u001b[0;32m     36\u001b[0m   \u001b[38;5;28;01mreturn\u001b[39;00m non_matching_objects\n\u001b[0;32m     38\u001b[0m \u001b[38;5;66;03m# json_data = json.loads(r'C:\\Users\\thima\\Documents\\GitHub\\PortfolioThiagoCairoDuarte\\scripts\\color_reference.json')\u001b[39;00m\n\u001b[1;32m---> 40\u001b[0m \u001b[38;5;28;01mwith\u001b[39;00m \u001b[38;5;28;43mopen\u001b[39;49m\u001b[43m(\u001b[49m\u001b[38;5;124;43mr\u001b[39;49m\u001b[38;5;124;43m'\u001b[39;49m\u001b[38;5;124;43mC:\u001b[39;49m\u001b[38;5;124;43m\\\u001b[39;49m\u001b[38;5;124;43mUsers\u001b[39;49m\u001b[38;5;124;43m\\\u001b[39;49m\u001b[38;5;124;43mthima\u001b[39;49m\u001b[38;5;124;43m\\\u001b[39;49m\u001b[38;5;124;43mDocuments\u001b[39;49m\u001b[38;5;124;43m\\\u001b[39;49m\u001b[38;5;124;43mGitHub\u001b[39;49m\u001b[38;5;124;43m\\\u001b[39;49m\u001b[38;5;124;43mPortfolioThiagoCairoDuarte\u001b[39;49m\u001b[38;5;124;43m\\\u001b[39;49m\u001b[38;5;124;43mscripts\u001b[39;49m\u001b[38;5;124;43m\\\u001b[39;49m\u001b[38;5;124;43mcolor_reference.json\u001b[39;49m\u001b[38;5;124;43m'\u001b[39;49m\u001b[43m,\u001b[49m\u001b[43m \u001b[49m\u001b[38;5;124;43m\"\u001b[39;49m\u001b[38;5;124;43mr\u001b[39;49m\u001b[38;5;124;43m\"\u001b[39;49m\u001b[43m)\u001b[49m \u001b[38;5;28;01mas\u001b[39;00m jsonfile:\n\u001b[0;32m     41\u001b[0m   \u001b[38;5;66;03m# Use json.load to read the JSON data from the file\u001b[39;00m\n\u001b[0;32m     42\u001b[0m   json_data \u001b[38;5;241m=\u001b[39m json\u001b[38;5;241m.\u001b[39mload(jsonfile)\n\u001b[0;32m     44\u001b[0m non_matching_objects \u001b[38;5;241m=\u001b[39m check_json_objects(json_data, unique_list)\n",
      "File \u001b[1;32m~\\AppData\\Roaming\\Python\\Python311\\site-packages\\IPython\\core\\interactiveshell.py:324\u001b[0m, in \u001b[0;36m_modified_open\u001b[1;34m(file, *args, **kwargs)\u001b[0m\n\u001b[0;32m    317\u001b[0m \u001b[38;5;28;01mif\u001b[39;00m file \u001b[38;5;129;01min\u001b[39;00m {\u001b[38;5;241m0\u001b[39m, \u001b[38;5;241m1\u001b[39m, \u001b[38;5;241m2\u001b[39m}:\n\u001b[0;32m    318\u001b[0m     \u001b[38;5;28;01mraise\u001b[39;00m \u001b[38;5;167;01mValueError\u001b[39;00m(\n\u001b[0;32m    319\u001b[0m         \u001b[38;5;124mf\u001b[39m\u001b[38;5;124m\"\u001b[39m\u001b[38;5;124mIPython won\u001b[39m\u001b[38;5;124m'\u001b[39m\u001b[38;5;124mt let you open fd=\u001b[39m\u001b[38;5;132;01m{\u001b[39;00mfile\u001b[38;5;132;01m}\u001b[39;00m\u001b[38;5;124m by default \u001b[39m\u001b[38;5;124m\"\u001b[39m\n\u001b[0;32m    320\u001b[0m         \u001b[38;5;124m\"\u001b[39m\u001b[38;5;124mas it is likely to crash IPython. If you know what you are doing, \u001b[39m\u001b[38;5;124m\"\u001b[39m\n\u001b[0;32m    321\u001b[0m         \u001b[38;5;124m\"\u001b[39m\u001b[38;5;124myou can use builtins\u001b[39m\u001b[38;5;124m'\u001b[39m\u001b[38;5;124m open.\u001b[39m\u001b[38;5;124m\"\u001b[39m\n\u001b[0;32m    322\u001b[0m     )\n\u001b[1;32m--> 324\u001b[0m \u001b[38;5;28;01mreturn\u001b[39;00m \u001b[43mio_open\u001b[49m\u001b[43m(\u001b[49m\u001b[43mfile\u001b[49m\u001b[43m,\u001b[49m\u001b[43m \u001b[49m\u001b[38;5;241;43m*\u001b[39;49m\u001b[43margs\u001b[49m\u001b[43m,\u001b[49m\u001b[43m \u001b[49m\u001b[38;5;241;43m*\u001b[39;49m\u001b[38;5;241;43m*\u001b[39;49m\u001b[43mkwargs\u001b[49m\u001b[43m)\u001b[49m\n",
      "\u001b[1;31mFileNotFoundError\u001b[0m: [Errno 2] No such file or directory: 'C:\\\\Users\\\\thima\\\\Documents\\\\GitHub\\\\PortfolioThiagoCairoDuarte\\\\scripts\\\\color_reference.json'"
     ]
    }
   ],
   "source": [
    "def combine_unique(list_of_lists):\n",
    "  \"\"\"\n",
    "  This function combines elements from a list of sub-lists into a new list containing only unique values.\n",
    "\n",
    "  Args:\n",
    "      list_of_lists: A list containing sub-lists with the elements to combine.\n",
    "\n",
    "  Returns:\n",
    "      A new list containing the unique elements from all the sub-lists.\n",
    "  \"\"\"\n",
    "  # Use list comprehension to flatten the list of lists\n",
    "  combined_list = [item for sublist in list_of_lists for item in sublist]\n",
    "  # Use set to remove duplicates and convert back to list\n",
    "  return list(set(combined_list))\n",
    "\n",
    "unique_list = combine_unique(list(portfolio['tags']))\n",
    "\n",
    "print(unique_list)\n",
    "\n",
    "def check_json_objects(json_obj, reference_list):\n",
    "  \"\"\"\n",
    "  Checks for objects in a JSON object that are not present in a reference list.\n",
    "\n",
    "  Args:\n",
    "      json_obj: The JSON object to check (should be a list of dictionaries).\n",
    "      reference_list: A list containing values to compare against.\n",
    "\n",
    "  Returns:\n",
    "      A list of dictionaries from the JSON object that are not in the reference list.\n",
    "  \"\"\"\n",
    "  non_matching_objects = []\n",
    "  for obj in json_obj:\n",
    "    # Check if all key-value pairs in the object match with items in the reference list\n",
    "    if not all(item in reference_list for item in obj.values()):\n",
    "      non_matching_objects.append(obj)\n",
    "  return non_matching_objects\n",
    "\n",
    "# json_data = json.loads(r'C:\\Users\\thima\\Documents\\GitHub\\PortfolioThiagoCairoDuarte\\scripts\\color_reference.json')\n",
    "\n",
    "with open(r'C:\\Users\\thima\\Documents\\GitHub\\PortfolioThiagoCairoDuarte\\data\\color_reference.json', \"r\") as jsonfile:\n",
    "  # Use json.load to read the JSON data from the file\n",
    "  json_data = json.load(jsonfile)\n",
    "\n",
    "non_matching_objects = check_json_objects(json_data, unique_list)\n",
    "\n",
    "print(non_matching_objects)"
   ]
  },
  {
   "cell_type": "code",
   "execution_count": 30,
   "metadata": {},
   "outputs": [
    {
     "name": "stdout",
     "output_type": "stream",
     "text": [
      "The color for Github is: yellow\n"
     ]
    }
   ],
   "source": [
    "# Your dictionary\n",
    "data = [{\"red\": \"Excel/Sheets\"}, {\"blue\": \"Google App Script\"}, {\"yellow\": \"Github\"}, {\"yellow\": \"Python\"}]\n",
    "\n",
    "# Function to find color by value\n",
    "def find_color(value, data):\n",
    "  \"\"\"\n",
    "  Finds the color associated with a given value in a dictionary of key-value pairs.\n",
    "\n",
    "  Args:\n",
    "      value: The value to search for (e.g., \"Github\").\n",
    "      data: The dictionary containing key-value pairs (color as key, value as data).\n",
    "\n",
    "  Returns:\n",
    "      The color associated with the value, or None if not found.\n",
    "  \"\"\"\n",
    "  for item in data:\n",
    "    if value in item.values():\n",
    "      return list(item.keys())[0]  # Get the first key (color)\n",
    "  return None\n",
    "\n",
    "# Find the color for \"Github\"\n",
    "color = find_color(\"Github\", data)\n",
    "\n",
    "if color:\n",
    "  print(f\"The color for Github is: {color}\")\n",
    "else:\n",
    "  print(\"Color not found for 'Github'\")\n"
   ]
  },
  {
   "cell_type": "code",
   "execution_count": 17,
   "metadata": {},
   "outputs": [
    {
     "name": "stdout",
     "output_type": "stream",
     "text": [
      "[{'name': 'banana'}, {'name': 'orange'}]\n"
     ]
    }
   ],
   "source": [
    "def check_json_objects(json_obj, reference_list):\n",
    "  \"\"\"\n",
    "  Checks for objects in a JSON object that are not present in a reference list.\n",
    "\n",
    "  Args:\n",
    "      json_obj: The JSON object to check (should be a list of dictionaries).\n",
    "      reference_list: A list containing values to compare against.\n",
    "\n",
    "  Returns:\n",
    "      A list of dictionaries from the JSON object that are not in the reference list.\n",
    "  \"\"\"\n",
    "  non_matching_objects = []\n",
    "  for obj in json_obj:\n",
    "    # Check if all key-value pairs in the object match with items in the reference list\n",
    "    if not all(item in reference_list for item in obj.values()):\n",
    "      non_matching_objects.append(obj)\n",
    "  return non_matching_objects\n",
    "\n",
    "# Example usage\n",
    "json_data = json.loads('[{\"name\": \"apple\"}, {\"name\": \"banana\"}, {\"name\": \"orange\"}]')\n",
    "reference_list = [\"apple\", \"grape\"]\n",
    "\n",
    "non_matching_objects = check_json_objects(json_data, reference_list)\n",
    "\n",
    "print(non_matching_objects)  # Output: [{\"name\": \"banana\"}, {\"name\": \"orange\"}]\n"
   ]
  }
 ],
 "metadata": {
  "kernelspec": {
   "display_name": "Python 3",
   "language": "python",
   "name": "python3"
  },
  "language_info": {
   "codemirror_mode": {
    "name": "ipython",
    "version": 3
   },
   "file_extension": ".py",
   "mimetype": "text/x-python",
   "name": "python",
   "nbconvert_exporter": "python",
   "pygments_lexer": "ipython3",
   "version": "3.11.8"
  }
 },
 "nbformat": 4,
 "nbformat_minor": 2
}
