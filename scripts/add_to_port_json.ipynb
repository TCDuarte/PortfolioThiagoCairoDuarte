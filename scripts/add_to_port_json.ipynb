{
 "cells": [
  {
   "cell_type": "code",
   "execution_count": 2,
   "metadata": {},
   "outputs": [],
   "source": [
    "import pandas as pd\n",
    "portfolio = pd.read_json(r'C:\\Users\\thima\\Documents\\GitHub\\PortfolioThiagoCairoDuarte\\data\\portfolio.json')"
   ]
  },
  {
   "cell_type": "code",
   "execution_count": 13,
   "metadata": {},
   "outputs": [],
   "source": [
    "namePT = 'Portifólio em Python'"
   ]
  },
  {
   "cell_type": "code",
   "execution_count": 14,
   "metadata": {},
   "outputs": [],
   "source": [
    "nameEN = 'Python portfolio'"
   ]
  },
  {
   "cell_type": "code",
   "execution_count": 15,
   "metadata": {},
   "outputs": [],
   "source": [
    "file = 'portf.png'"
   ]
  },
  {
   "cell_type": "code",
   "execution_count": 16,
   "metadata": {},
   "outputs": [],
   "source": [
    "url = 'https://github.com/TCDuarte/PortfolioThiagoCairoDuarte/'"
   ]
  },
  {
   "cell_type": "code",
   "execution_count": 17,
   "metadata": {},
   "outputs": [],
   "source": [
    "tags = ['Python', 'Github']"
   ]
  },
  {
   "cell_type": "code",
   "execution_count": 18,
   "metadata": {},
   "outputs": [],
   "source": [
    "def add_to_portfolio(df = portfolio):\n",
    "    newRow = {'namePT': namePT,\n",
    "              'nameEN': nameEN,\n",
    "              'file': \"https://github.com/TCDuarte/PortfolioThiagoCairoDuarte/blob/main/streamlit/imgs/portifolio_pictures/\" + file + \"?raw=true\",\n",
    "              'url': url,\n",
    "              'tags': tags}\n",
    "    # lastColumnValue = df.tail(1)['column'].values[0]\n",
    "    # column = 1 if lastColumnValue == 4 else lastColumnValue + 1\n",
    "    # newRow['column'] = column\n",
    "    # print(newRow)\n",
    "    df = pd.concat([df, pd.DataFrame([newRow])], ignore_index=True)\n",
    "    return(df)\n",
    "    \n",
    "portfolio = add_to_portfolio()\n",
    "\n",
    "portfolio.to_json(r'C:\\Users\\thima\\Documents\\GitHub\\PortfolioThiagoCairoDuarte\\data\\portfolio.json')"
   ]
  },
  {
   "cell_type": "code",
   "execution_count": 9,
   "metadata": {},
   "outputs": [
    {
     "name": "stdout",
     "output_type": "stream",
     "text": [
      "['Excel/Sheets', 'Google App Script', 'Github', 'Python']\n"
     ]
    }
   ],
   "source": [
    "def combine_unique(list_of_lists):\n",
    "  \"\"\"\n",
    "  This function combines elements from a list of sub-lists into a new list containing only unique values.\n",
    "\n",
    "  Args:\n",
    "      list_of_lists: A list containing sub-lists with the elements to combine.\n",
    "\n",
    "  Returns:\n",
    "      A new list containing the unique elements from all the sub-lists.\n",
    "  \"\"\"\n",
    "  # Use list comprehension to flatten the list of lists\n",
    "  combined_list = [item for sublist in list_of_lists for item in sublist]\n",
    "  # Use set to remove duplicates and convert back to list\n",
    "  return list(set(combined_list))\n",
    "\n",
    "# Example usage\n",
    "list_of_sublists = [\n",
    "  [\"apple\", \"banana\", \"cherry\"],\n",
    "  [\"banana\", \"orange\", \"grape\"],\n",
    "  [\"cherry\", \"kiwi\", \"apple\"]\n",
    "]\n",
    "\n",
    "unique_list = combine_unique(list(portfolio['tags']))\n",
    "\n",
    "print(unique_list)  # Output: ['apple', 'banana', 'cherry', 'orange', 'grape', 'kiwi']\n",
    "\n"
   ]
  },
  {
   "cell_type": "code",
   "execution_count": 20,
   "metadata": {},
   "outputs": [
    {
     "name": "stdout",
     "output_type": "stream",
     "text": [
      "[]\n"
     ]
    }
   ],
   "source": [
    "import json\n",
    "\n",
    "def check_json_objects(json_obj, reference_list):\n",
    "  \"\"\"\n",
    "  Checks for objects in a JSON object that are not present in a reference list.\n",
    "\n",
    "  Args:\n",
    "      json_obj: The JSON object to check (should be a list of dictionaries).\n",
    "      reference_list: A list containing values to compare against.\n",
    "\n",
    "  Returns:\n",
    "      A list of dictionaries from the JSON object that are not in the reference list.\n",
    "  \"\"\"\n",
    "  non_matching_objects = []\n",
    "  for obj in json_obj:\n",
    "    # Check if all key-value pairs in the object match with items in the reference list\n",
    "    if not all(item in reference_list for item in obj.values()):\n",
    "      non_matching_objects.append(obj)\n",
    "  return non_matching_objects\n",
    "\n",
    "# Example usage\n",
    "json_data = json.loads('[{\"red\": \"Excel/Sheets\"}, {\"blue\": \"Google App Script\"}, {\"yellow\": \"Github\"}, {\"yellow\": \"Python\"}]')\n",
    "\n",
    "non_matching_objects = check_json_objects(json_data, unique_list)\n",
    "\n",
    "print(non_matching_objects)\n"
   ]
  },
  {
   "cell_type": "code",
   "execution_count": 17,
   "metadata": {},
   "outputs": [
    {
     "name": "stdout",
     "output_type": "stream",
     "text": [
      "[{'name': 'banana'}, {'name': 'orange'}]\n"
     ]
    }
   ],
   "source": [
    "import json\n",
    "\n",
    "def check_json_objects(json_obj, reference_list):\n",
    "  \"\"\"\n",
    "  Checks for objects in a JSON object that are not present in a reference list.\n",
    "\n",
    "  Args:\n",
    "      json_obj: The JSON object to check (should be a list of dictionaries).\n",
    "      reference_list: A list containing values to compare against.\n",
    "\n",
    "  Returns:\n",
    "      A list of dictionaries from the JSON object that are not in the reference list.\n",
    "  \"\"\"\n",
    "  non_matching_objects = []\n",
    "  for obj in json_obj:\n",
    "    # Check if all key-value pairs in the object match with items in the reference list\n",
    "    if not all(item in reference_list for item in obj.values()):\n",
    "      non_matching_objects.append(obj)\n",
    "  return non_matching_objects\n",
    "\n",
    "# Example usage\n",
    "json_data = json.loads('[{\"name\": \"apple\"}, {\"name\": \"banana\"}, {\"name\": \"orange\"}]')\n",
    "reference_list = [\"apple\", \"grape\"]\n",
    "\n",
    "non_matching_objects = check_json_objects(json_data, reference_list)\n",
    "\n",
    "print(non_matching_objects)  # Output: [{\"name\": \"banana\"}, {\"name\": \"orange\"}]\n"
   ]
  }
 ],
 "metadata": {
  "kernelspec": {
   "display_name": "Python 3",
   "language": "python",
   "name": "python3"
  },
  "language_info": {
   "codemirror_mode": {
    "name": "ipython",
    "version": 3
   },
   "file_extension": ".py",
   "mimetype": "text/x-python",
   "name": "python",
   "nbconvert_exporter": "python",
   "pygments_lexer": "ipython3",
   "version": "3.11.8"
  }
 },
 "nbformat": 4,
 "nbformat_minor": 2
}
