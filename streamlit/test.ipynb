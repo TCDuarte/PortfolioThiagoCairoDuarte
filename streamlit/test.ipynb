{
 "cells": [
  {
   "cell_type": "code",
   "execution_count": 19,
   "metadata": {},
   "outputs": [],
   "source": [
    "import pandas as pd\n",
    "import streamlit as st\n",
    "import requests\n",
    "import base64"
   ]
  },
  {
   "cell_type": "code",
   "execution_count": 20,
   "metadata": {},
   "outputs": [],
   "source": [
    "username = 'TCDuarte'\n",
    "repository_name = 'PortfolioThiagoCairoDuarte'\n",
    "\n",
    "def get_file_from_github(file_path, pat=None):\n",
    "  \"\"\"\n",
    "  Função para abrir os arquivos de texto do repositório.\n",
    "  Com o objetivo de não sobrecarregar o código com textos, os mesmos foram salvos dentro do repositório.\n",
    "  Por se tratar de um repositório público, não necessita de uma etapa de autenticação.\n",
    "\n",
    "  Argumentos:\n",
    "      file_path (str): Caminho para o arquivo.\n",
    "\n",
    "  Returns:\n",
    "      str: Texto contido dentro do arquivo.\n",
    "  \"\"\"\n",
    "\n",
    "  # URL da API baseada nos demais parâmetros\n",
    "  url = f\"https://api.github.com/repos/{username}/{repository_name}/contents/{file_path}\"\n",
    "  print(url)\n",
    "  # Request\n",
    "  response = requests.get(url)\n",
    "\n",
    "  # Checa se a request obteve sucesso\n",
    "  if response.status_code == 200:\n",
    "    data = response.json()\n",
    "    print(data)\n",
    "    \n",
    "    # Decodificação do arquivo em texto\n",
    "    file_content = base64.b64decode(data[\"content\"]).decode(\"utf-8\")\n",
    "    return file_content\n",
    "  else:\n",
    "    print(f\"Error: {response.status_code}\")\n",
    "    return None"
   ]
  },
  {
   "cell_type": "code",
   "execution_count": 21,
   "metadata": {},
   "outputs": [
    {
     "name": "stdout",
     "output_type": "stream",
     "text": [
      "https://api.github.com/repos/TCDuarte/PortfolioThiagoCairoDuarte/contents/streamlit/texts/tst.txt\n",
      "{'name': 'tst.txt', 'path': 'streamlit/texts/tst.txt', 'sha': '87c53befdeb076eb654ad5bdd623911e04bcdeae', 'size': 33, 'url': 'https://api.github.com/repos/TCDuarte/PortfolioThiagoCairoDuarte/contents/streamlit/texts/tst.txt?ref=main', 'html_url': 'https://github.com/TCDuarte/PortfolioThiagoCairoDuarte/blob/main/streamlit/texts/tst.txt', 'git_url': 'https://api.github.com/repos/TCDuarte/PortfolioThiagoCairoDuarte/git/blobs/87c53befdeb076eb654ad5bdd623911e04bcdeae', 'download_url': 'https://raw.githubusercontent.com/TCDuarte/PortfolioThiagoCairoDuarte/main/streamlit/texts/tst.txt', 'type': 'file', 'content': 'VGV4dG8gZGUgdGVzdGUgKip0ZXN0ZSoqCiAgCnRlc3Rl\\n', 'encoding': 'base64', '_links': {'self': 'https://api.github.com/repos/TCDuarte/PortfolioThiagoCairoDuarte/contents/streamlit/texts/tst.txt?ref=main', 'git': 'https://api.github.com/repos/TCDuarte/PortfolioThiagoCairoDuarte/git/blobs/87c53befdeb076eb654ad5bdd623911e04bcdeae', 'html': 'https://github.com/TCDuarte/PortfolioThiagoCairoDuarte/blob/main/streamlit/texts/tst.txt'}}\n",
      "Texto de teste **teste**\n",
      "  \n",
      "teste\n"
     ]
    }
   ],
   "source": [
    "tst = get_file_from_github(r'streamlit/texts/tst.txt')\n",
    "print (tst)"
   ]
  },
  {
   "cell_type": "code",
   "execution_count": 24,
   "metadata": {},
   "outputs": [],
   "source": [
    "link = 'https://docs.google.com/spreadsheets/d/e/2PACX-1vTWcpEoQTEqt5KbiDsphxgdTwIPuWszrNLWL-zwxm-WajTZ_PlKRmqg3vOzc_EFrA-5aZ1KSqaFvMPC/pub?gid=1545264035&single=true&output=csv'\n",
    "myData = pd.read_csv(link)"
   ]
  },
  {
   "cell_type": "code",
   "execution_count": null,
   "metadata": {},
   "outputs": [],
   "source": [
    "def stringToList(serie):\n",
    "    finalList = []\n",
    "    for x in serie:\n",
    "        if x.count(';') > 0:\n",
    "            valueList = x.split('; ')\n",
    "            finalList.append(valueList)\n",
    "        else:\n",
    "            finalList.append([x])\n",
    "    return finalList"
   ]
  },
  {
   "cell_type": "code",
   "execution_count": null,
   "metadata": {},
   "outputs": [],
   "source": [
    "print (stringToList(myData['Tags']))"
   ]
  }
 ],
 "metadata": {
  "kernelspec": {
   "display_name": "Python 3",
   "language": "python",
   "name": "python3"
  },
  "language_info": {
   "codemirror_mode": {
    "name": "ipython",
    "version": 3
   },
   "file_extension": ".py",
   "mimetype": "text/x-python",
   "name": "python",
   "nbconvert_exporter": "python",
   "pygments_lexer": "ipython3",
   "version": "3.11.8"
  }
 },
 "nbformat": 4,
 "nbformat_minor": 2
}
