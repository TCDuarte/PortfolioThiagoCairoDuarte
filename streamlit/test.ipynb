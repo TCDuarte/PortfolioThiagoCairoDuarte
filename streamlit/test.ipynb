{
 "cells": [
  {
   "cell_type": "code",
   "execution_count": 1,
   "metadata": {},
   "outputs": [],
   "source": [
    "import pandas as pd\n",
    "import streamlit as st\n",
    "import requests\n",
    "import base64"
   ]
  },
  {
   "cell_type": "code",
   "execution_count": 154,
   "metadata": {},
   "outputs": [],
   "source": [
    "username = 'TCDuarte'\n",
    "repository_name = 'PortfolioThiagoCairoDuarte'\n",
    "\n",
    "def get_file_from_github(file_path, pat=None):\n",
    "  \"\"\"\n",
    "  Função para abrir os arquivos de texto do repositório.\n",
    "  Com o objetivo de não sobrecarregar o código com textos, os mesmos foram salvos dentro do repositório.\n",
    "  Por se tratar de um repositório público, não necessita de uma etapa de autenticação.\n",
    "\n",
    "  Argumentos:\n",
    "      file_path (str): Caminho para o arquivo.\n",
    "\n",
    "  Returns:\n",
    "      str: Texto contido dentro do arquivo.\n",
    "  \"\"\"\n",
    "\n",
    "  # URL da API baseada nos demais parâmetros\n",
    "  url = f\"https://api.github.com/repos/{username}/{repository_name}/contents/{file_path}\"\n",
    "  print(url)\n",
    "  # Request\n",
    "  response = requests.get(url)\n",
    "\n",
    "  # Checa se a request obteve sucesso\n",
    "  if response.status_code == 200:\n",
    "    data = response.json()\n",
    "    print(data)\n",
    "    \n",
    "    # Decodificação do arquivo em texto\n",
    "    file_content = base64.b64decode(data[\"content\"]).decode(\"utf-8\")\n",
    "    return file_content\n",
    "  else:\n",
    "    print(f\"Error: {response.status_code}\")\n",
    "    return None"
   ]
  },
  {
   "cell_type": "code",
   "execution_count": null,
   "metadata": {},
   "outputs": [],
   "source": [
    "tst = get_file_from_github(r'streamlit/texts/tst.txt')\n",
    "print (tst)"
   ]
  },
  {
   "cell_type": "code",
   "execution_count": 156,
   "metadata": {},
   "outputs": [],
   "source": [
    "link = 'https://docs.google.com/spreadsheets/d/e/2PACX-1vTWcpEoQTEqt5KbiDsphxgdTwIPuWszrNLWL-zwxm-WajTZ_PlKRmqg3vOzc_EFrA-5aZ1KSqaFvMPC/pub?gid=1545264035&single=true&output=csv'\n",
    "myData = pd.read_csv(link)"
   ]
  },
  {
   "cell_type": "code",
   "execution_count": 157,
   "metadata": {},
   "outputs": [],
   "source": [
    "def stringToList(serie):\n",
    "    finalList = []\n",
    "    for x in serie:\n",
    "        if x.count(';') > 0:\n",
    "            valueList = x.split('; ')\n",
    "            finalList.append(valueList)\n",
    "        else:\n",
    "            finalList.append([x])\n",
    "    return finalList"
   ]
  },
  {
   "cell_type": "code",
   "execution_count": 158,
   "metadata": {},
   "outputs": [],
   "source": [
    "myData['Tags'] = (stringToList(myData['Tags']))"
   ]
  },
  {
   "cell_type": "code",
   "execution_count": 159,
   "metadata": {},
   "outputs": [],
   "source": [
    "from PIL import Image, ImageDraw\n",
    "import random\n",
    "\n",
    "def generate_random_gradient(width, height):\n",
    "  \"\"\"\n",
    "  Generates a random linear gradient background image.\n",
    "\n",
    "  Args:\n",
    "      width: The width of the image in pixels.\n",
    "      height: The height of the image in pixels.\n",
    "\n",
    "  Returns:\n",
    "      A PIL Image object with the random gradient background.\n",
    "  \"\"\"\n",
    "\n",
    "  # Generate two random colors for the gradient\n",
    "  start_color = (random.randint(0, 255), random.randint(0, 255), random.randint(0, 255))\n",
    "  end_color = (random.randint(0, 255), random.randint(0, 255), random.randint(0, 255))\n",
    "\n",
    "  # Create a new image with the specified size and RGB mode\n",
    "  img = Image.new('RGB', (width, height))\n",
    "  draw = ImageDraw.Draw(img)\n",
    "\n",
    "  # Calculate the color change for each pixel based on its position\n",
    "  color_step = tuple(\n",
    "      (end_color[i] - start_color[i]) / width for i in range(3)\n",
    "  )\n",
    "\n",
    "  # Loop through each pixel and set its color based on the gradient\n",
    "  for x in range(width):\n",
    "    color = tuple(int(start_color[i] + color_step[i] * x) for i in range(3))\n",
    "    for y in range(height):\n",
    "      draw.point((x, y), fill=color)\n",
    "\n",
    "  return img\n",
    "\n",
    "# Example usage\n",
    "width = 500\n",
    "height = 300\n",
    "gradient_image = generate_random_gradient(width, height)\n",
    "\n",
    "# Optionally, save the generated image\n",
    "gradient_image.save(\"random_gradient.png\")\n",
    "\n",
    "# You can use this generated image as a background for other images\n",
    "# using techniques like compositing or overlays\n"
   ]
  },
  {
   "cell_type": "code",
   "execution_count": null,
   "metadata": {},
   "outputs": [],
   "source": [
    "from PIL import Image\n",
    "\n",
    "def resize_image(image_path, output_path, target_width, target_height):\n",
    "  \"\"\"\n",
    "  Resizes an image to the specified dimensions.\n",
    "\n",
    "  Args:\n",
    "      image_path: The path to the image file to resize.\n",
    "      output_path: The path to save the resized image.\n",
    "      target_width: The desired width of the resized image in pixels.\n",
    "      target_height: The desired height of the resized image in pixels.\n",
    "  \"\"\"\n",
    "\n",
    "  try:\n",
    "    # Open the image\n",
    "    img = Image.open(image_path)\n",
    "\n",
    "    # Resize the image\n",
    "    resized_img = img.resize((target_width, target_height))\n",
    "\n",
    "    # Save the resized image\n",
    "    resized_img.save(output_path)\n",
    "    print(f\"Image resized and saved to: {output_path}\")\n",
    "  except FileNotFoundError:\n",
    "    print(f\"Error: File not found: {image_path}\")\n",
    "  except Exception as e:\n",
    "    print(f\"Error resizing image: {e}\")\n",
    "\n",
    "# Example usage\n",
    "image_path = \"test.png\"  # Replace with your image path\n",
    "output_path = \"resized_image.jpg\"\n",
    "target_width = 290\n",
    "target_height = 290\n",
    "\n",
    "resize_image(image_path, output_path, target_width, target_height)"
   ]
  },
  {
   "cell_type": "code",
   "execution_count": 161,
   "metadata": {},
   "outputs": [],
   "source": [
    "from PIL import Image, ImageDraw\n",
    "import random\n",
    "\n",
    "def generate_random_gradient(width, height):\n",
    "  \"\"\"\n",
    "  Generates a random linear gradient background image.\n",
    "\n",
    "  Args:\n",
    "      width: The width of the image in pixels.\n",
    "      height: The height of the image in pixels.\n",
    "\n",
    "  Returns:\n",
    "      A PIL Image object with the random gradient background.\n",
    "  \"\"\"\n",
    "\n",
    "  # Generate two random colors for the gradient\n",
    "  start_color = (random.randint(0, 255), random.randint(0, 255), random.randint(0, 255))\n",
    "  end_color = (random.randint(0, 255), random.randint(0, 255), random.randint(0, 255))\n",
    "\n",
    "  # Create a new image with the specified size and RGB mode\n",
    "  img = Image.new('RGB', (width, height))\n",
    "  draw = ImageDraw.Draw(img)\n",
    "\n",
    "  # Calculate the color change for each pixel based on its position\n",
    "  color_step = tuple(\n",
    "      (end_color[i] - start_color[i]) / width for i in range(3)\n",
    "  )\n",
    "\n",
    "  # Loop through each pixel and set its color based on the gradient\n",
    "  for x in range(width):\n",
    "    color = tuple(int(start_color[i] + color_step[i] * x) for i in range(3))\n",
    "    for y in range(height):\n",
    "      draw.point((x, y), fill=color)\n",
    "\n",
    "  return img\n",
    "\n",
    "def paste_image_centered(background_image, foreground_image):\n",
    "  \"\"\"\n",
    "  Pastes a foreground image centered on top of a background image.\n",
    "\n",
    "  Args:\n",
    "      background_image: The PIL Image object of the background image.\n",
    "      foreground_image: The PIL Image object of the foreground image to paste.\n",
    "\n",
    "  Returns:\n",
    "      A PIL Image object with the foreground image pasted on the background.\n",
    "  \"\"\"\n",
    "\n",
    "  background_width, background_height = background_image.size\n",
    "  foreground_width, foreground_height = foreground_image.size\n",
    "\n",
    "  # Calculate center coordinates for pasting\n",
    "  paste_x = (background_width - foreground_width) // 2\n",
    "  paste_y = (background_height - foreground_height)\n",
    "\n",
    "  # Paste the foreground image onto the background\n",
    "  background_image.paste(foreground_image, (paste_x, paste_y))\n",
    "\n",
    "  return background_image\n",
    "\n",
    "# Example usage\n",
    "width = 350\n",
    "height = 320\n",
    "gradient_image = generate_random_gradient(width, height)\n",
    "\n",
    "# Load your foreground image (replace 'foreground.png' with your image path)\n",
    "foreground_image = Image.open('resized_image.jpg')\n",
    "\n",
    "# Check if foreground image is smaller than the background\n",
    "if foreground_image.width > width or foreground_image.height > height:\n",
    "  print(\"Foreground image is larger than the background. Resize it first!\")\n",
    "else:\n",
    "  # Paste the foreground image centered on the gradient\n",
    "  final_image = paste_image_centered(gradient_image.copy(), foreground_image)\n",
    "  final_image.save(\"final_image.png\")\n"
   ]
  },
  {
   "cell_type": "code",
   "execution_count": 14,
   "metadata": {},
   "outputs": [],
   "source": [
    "list = [0, 1, 2, 3, 4, 5, 6, 7, 8, 9, 10]\n",
    "\n",
    "def setColumn(alist):\n",
    "    newList = []\n",
    "    for x in alist:\n",
    "        a = 2\n",
    "        print('i = ' + str(x))\n",
    "        while a <= 4 and a >= 0:\n",
    "            print((x, a, '-', (x+1)/a))\n",
    "            result = 'col1'\n",
    "            if ((x+1)/a)% 1 == 0:\n",
    "                result = 'col' + str(a)\n",
    "                a = 5\n",
    "            a += 1\n",
    "        newList.append(result)\n",
    "        print(result)\n",
    "            \n",
    "    return newList"
   ]
  },
  {
   "cell_type": "code",
   "execution_count": null,
   "metadata": {},
   "outputs": [],
   "source": [
    "test = setColumn(list)\n",
    "print (test)"
   ]
  },
  {
   "cell_type": "code",
   "execution_count": null,
   "metadata": {},
   "outputs": [
    {
     "data": {
      "text/plain": [
       "False"
      ]
     },
     "execution_count": 70,
     "metadata": {},
     "output_type": "execute_result"
    }
   ],
   "source": [
    "3.2% 1 == 0"
   ]
  },
  {
   "cell_type": "code",
   "execution_count": null,
   "metadata": {},
   "outputs": [
    {
     "name": "stdout",
     "output_type": "stream",
     "text": [
      "['col3', 'col1']\n"
     ]
    }
   ],
   "source": [
    "i = 18\n",
    "a = 4\n",
    "newList = []\n",
    "while a < 20 and a > 0:\n",
    "    if ((i+1)/a)% 1 == 0:\n",
    "        newList.append('col' + str(a))\n",
    "    a -= 1\n",
    "    i -= 1\n",
    "    \n",
    "print(newList)"
   ]
  },
  {
   "cell_type": "code",
   "execution_count": 24,
   "metadata": {},
   "outputs": [],
   "source": [
    "portfolio = pd.read_json(r'C:\\Users\\thima\\Documents\\GitHub\\PortfolioThiagoCairoDuarte\\streamlit\\portfolio.json')"
   ]
  },
  {
   "cell_type": "code",
   "execution_count": 32,
   "metadata": {},
   "outputs": [
    {
     "name": "stdout",
     "output_type": "stream",
     "text": [
      "['col1', 'col2']\n"
     ]
    }
   ],
   "source": [
    "len(portfolio.index)\n",
    "\n",
    "def add_col_index(df):\n",
    "    listN = []\n",
    "    b = 0\n",
    "    colNun = 1\n",
    "    while b < len(df.index):\n",
    "        listN.append('col' + str(colNun))\n",
    "        b += 1\n",
    "        colNun = colNun + 1 if colNun != 4 else 1\n",
    "    return listN\n",
    "\n",
    "print (add_col_index(portfolio))"
   ]
  },
  {
   "cell_type": "code",
   "execution_count": 26,
   "metadata": {},
   "outputs": [
    {
     "name": "stdout",
     "output_type": "stream",
     "text": [
      "name: Inclusor de certificações, Age: https://docs.google.com/spreadsheets/d/12lkSbB5lPSyyEMMUkw35cFwOrVYnq3k2NVO11-6oF8g/edit#gid=0\n",
      "name: Teste, Age: test.com\n"
     ]
    }
   ],
   "source": [
    "for index, row in portfolio.iterrows():\n",
    "    print(f\"name: {row['namePT']}, Age: {row['url']}\")"
   ]
  }
 ],
 "metadata": {
  "kernelspec": {
   "display_name": "Python 3",
   "language": "python",
   "name": "python3"
  },
  "language_info": {
   "codemirror_mode": {
    "name": "ipython",
    "version": 3
   },
   "file_extension": ".py",
   "mimetype": "text/x-python",
   "name": "python",
   "nbconvert_exporter": "python",
   "pygments_lexer": "ipython3",
   "version": "3.11.8"
  }
 },
 "nbformat": 4,
 "nbformat_minor": 2
}
